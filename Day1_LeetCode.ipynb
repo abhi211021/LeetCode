{
 "cells": [
  {
   "cell_type": "markdown",
   "metadata": {},
   "source": [
    "# 1.Two Sum"
   ]
  },
  {
   "cell_type": "code",
   "execution_count": 3,
   "metadata": {},
   "outputs": [
    {
     "name": "stdout",
     "output_type": "stream",
     "text": [
      "(0, 1)\n",
      "(1, 2)\n"
     ]
    }
   ],
   "source": [
    "class Solution:\n",
    "    def twoSum(self, nums, target):\n",
    "        \n",
    "        seen={} #Add each value,index pair once seen here\n",
    "        \n",
    "        #i->index,num->value\n",
    "        for i,num in enumerate(nums):\n",
    "            #check if difference is already seen, then return index of difference and current index(2nd num)\n",
    "            if (target-num) in seen:\n",
    "                return seen[target-num],i\n",
    "            #or add the number to seen\n",
    "            elif num not in seen:\n",
    "                seen[num]=i\n",
    "s1=Solution()\n",
    "print(s1.twoSum(nums = [2,7,11,15], target = 9))\n",
    "print(s1.twoSum(nums = [3,2,4], target = 6))"
   ]
  },
  {
   "cell_type": "markdown",
   "metadata": {},
   "source": [
    "# 9. Palindrome Number"
   ]
  },
  {
   "cell_type": "code",
   "execution_count": 21,
   "metadata": {},
   "outputs": [
    {
     "name": "stdout",
     "output_type": "stream",
     "text": [
      "False\n"
     ]
    }
   ],
   "source": [
    "def isPalindrome(x):\n",
    "    rev=0\n",
    "    actual_num=x\n",
    "    while(x>0):\n",
    "        rem=int(x%10)\n",
    "        rev=rev*10 +rem\n",
    "        x=x//10\n",
    "\n",
    "   \n",
    "    if actual_num == rev:\n",
    "        return True\n",
    "    else:\n",
    "        return False\n",
    "    \n",
    "print(isPalindrome(1421))\n"
   ]
  },
  {
   "cell_type": "markdown",
   "metadata": {},
   "source": [
    "# 7. Reverse Integer"
   ]
  },
  {
   "cell_type": "code",
   "execution_count": 20,
   "metadata": {},
   "outputs": [
    {
     "name": "stdout",
     "output_type": "stream",
     "text": [
      "741\n"
     ]
    },
    {
     "data": {
      "text/plain": [
       "-741"
      ]
     },
     "execution_count": 20,
     "metadata": {},
     "output_type": "execute_result"
    }
   ],
   "source": [
    "def reverse(x):\n",
    "    rev=0\n",
    "    x1=abs(x)\n",
    "    while(x1>0):\n",
    "        rem=int(x1%10)\n",
    "        rev=rev*10 +rem\n",
    "        x1=x1//10\n",
    "\n",
    "            \n",
    "    if x<0:\n",
    "        return -(rev)\n",
    "    else:\n",
    "        return rev\n",
    "reverse(-147)"
   ]
  },
  {
   "cell_type": "code",
   "execution_count": null,
   "metadata": {},
   "outputs": [],
   "source": []
  }
 ],
 "metadata": {
  "kernelspec": {
   "display_name": "Python 3",
   "language": "python",
   "name": "python3"
  },
  "language_info": {
   "codemirror_mode": {
    "name": "ipython",
    "version": 3
   },
   "file_extension": ".py",
   "mimetype": "text/x-python",
   "name": "python",
   "nbconvert_exporter": "python",
   "pygments_lexer": "ipython3",
   "version": "3.8.3"
  }
 },
 "nbformat": 4,
 "nbformat_minor": 4
}
